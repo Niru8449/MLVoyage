{
 "cells": [
  {
   "cell_type": "code",
   "execution_count": 1,
   "id": "7a07c787",
   "metadata": {},
   "outputs": [],
   "source": [
    "import numpy as np\n",
    "\n",
    "y_predicted = np.array([1,1,0,0,1])\n",
    "y_true = np.array([0.30, 0.7, 1,0, 0.5])"
   ]
  },
  {
   "cell_type": "code",
   "execution_count": 2,
   "id": "3e8529e5",
   "metadata": {},
   "outputs": [],
   "source": [
    "def mae(y_true, y_predicted) :\n",
    "    total_error = 0\n",
    "    for yt, yp in zip(y_true, y_predicted) :\n",
    "        total_error += abs(yt-yp)\n",
    "    print(\"Total error : \", total_error)\n",
    "    \n",
    "    mae = total_error / len(y_true)\n",
    "    print(\"MAE : \", mae)\n",
    "    return mae"
   ]
  },
  {
   "cell_type": "code",
   "execution_count": 3,
   "id": "4b3bb301",
   "metadata": {},
   "outputs": [
    {
     "name": "stdout",
     "output_type": "stream",
     "text": [
      "Total error :  2.5\n",
      "MAE :  0.5\n"
     ]
    },
    {
     "data": {
      "text/plain": [
       "0.5"
      ]
     },
     "execution_count": 3,
     "metadata": {},
     "output_type": "execute_result"
    }
   ],
   "source": [
    "mae(y_true, y_predicted)"
   ]
  },
  {
   "cell_type": "code",
   "execution_count": 4,
   "id": "61d9d416",
   "metadata": {},
   "outputs": [
    {
     "data": {
      "text/plain": [
       "0.5"
      ]
     },
     "execution_count": 4,
     "metadata": {},
     "output_type": "execute_result"
    }
   ],
   "source": [
    "np.mean(np.abs(y_predicted - y_true))"
   ]
  },
  {
   "cell_type": "code",
   "execution_count": null,
   "id": "3689b858",
   "metadata": {},
   "outputs": [],
   "source": []
  },
  {
   "cell_type": "code",
   "execution_count": 5,
   "id": "4aed77a7",
   "metadata": {},
   "outputs": [],
   "source": [
    "epsilon = 1e-15"
   ]
  },
  {
   "cell_type": "code",
   "execution_count": 6,
   "id": "6039b7ea",
   "metadata": {},
   "outputs": [
    {
     "data": {
      "text/plain": [
       "array([1, 1, 0, 0, 1])"
      ]
     },
     "execution_count": 6,
     "metadata": {},
     "output_type": "execute_result"
    }
   ],
   "source": [
    "y_predicted"
   ]
  },
  {
   "cell_type": "code",
   "execution_count": 7,
   "id": "f3abe6f5",
   "metadata": {},
   "outputs": [
    {
     "data": {
      "text/plain": [
       "[1, 1, 1e-15, 1e-15, 1]"
      ]
     },
     "execution_count": 7,
     "metadata": {},
     "output_type": "execute_result"
    }
   ],
   "source": [
    "y_predicted_new = [max(i, epsilon) for i in y_predicted]\n",
    "y_predicted_new"
   ]
  },
  {
   "cell_type": "code",
   "execution_count": 8,
   "id": "80a03996",
   "metadata": {},
   "outputs": [
    {
     "data": {
      "text/plain": [
       "[0.999999999999999, 0.999999999999999, 1e-15, 1e-15, 0.999999999999999]"
      ]
     },
     "execution_count": 8,
     "metadata": {},
     "output_type": "execute_result"
    }
   ],
   "source": [
    "y_predicted_new = [min(i, 1-epsilon) for i in y_predicted_new]\n",
    "y_predicted_new"
   ]
  },
  {
   "cell_type": "code",
   "execution_count": 9,
   "id": "d07b6a28",
   "metadata": {},
   "outputs": [
    {
     "data": {
      "text/plain": [
       "array([-9.99200722e-16, -9.99200722e-16, -3.45387764e+01, -3.45387764e+01,\n",
       "       -9.99200722e-16])"
      ]
     },
     "execution_count": 9,
     "metadata": {},
     "output_type": "execute_result"
    }
   ],
   "source": [
    "y_predicted_new = np.array(y_predicted_new)\n",
    "np.log(y_predicted_new)"
   ]
  },
  {
   "cell_type": "code",
   "execution_count": 10,
   "id": "032212ed",
   "metadata": {},
   "outputs": [
    {
     "name": "stderr",
     "output_type": "stream",
     "text": [
      "C:\\Users\\Nirupama Singh\\AppData\\Local\\Temp\\ipykernel_12964\\815880036.py:1: RuntimeWarning: divide by zero encountered in log\n",
      "  np.log(y_predicted)\n"
     ]
    },
    {
     "data": {
      "text/plain": [
       "array([  0.,   0., -inf, -inf,   0.])"
      ]
     },
     "execution_count": 10,
     "metadata": {},
     "output_type": "execute_result"
    }
   ],
   "source": [
    "np.log(y_predicted)"
   ]
  },
  {
   "cell_type": "code",
   "execution_count": 11,
   "id": "7c3fe12e",
   "metadata": {},
   "outputs": [],
   "source": [
    "log_loss = - np.mean(y_true*np.log(y_predicted_new) + (1-y_true)*np.log(1-y_predicted_new))"
   ]
  },
  {
   "cell_type": "code",
   "execution_count": 12,
   "id": "9ceedf42",
   "metadata": {},
   "outputs": [
    {
     "data": {
      "text/plain": [
       "17.2696280766844"
      ]
     },
     "execution_count": 12,
     "metadata": {},
     "output_type": "execute_result"
    }
   ],
   "source": [
    "log_loss"
   ]
  },
  {
   "cell_type": "code",
   "execution_count": 19,
   "id": "58fa39f1",
   "metadata": {},
   "outputs": [],
   "source": [
    "def log_loss2(y_true, y_predicted) :\n",
    "    y_predicted_new = [max(i, epsilon) for i in y_predicted]\n",
    "    y_predicted_new = [min(i, 1-epsilon) for i in y_predicted_new]\n",
    "    y_predicted_new = np.array(y_predicted_new)\n",
    "    log_loss = - np.mean(y_true*np.log(y_predicted_new) + (1-y_true)*np.log(1-y_predicted_new))    \n",
    "    return log_loss"
   ]
  },
  {
   "cell_type": "code",
   "execution_count": 20,
   "id": "8ec5f0cc",
   "metadata": {},
   "outputs": [
    {
     "data": {
      "text/plain": [
       "17.2696280766844"
      ]
     },
     "execution_count": 20,
     "metadata": {},
     "output_type": "execute_result"
    }
   ],
   "source": [
    "log_loss2(y_true, y_predicted)"
   ]
  },
  {
   "cell_type": "code",
   "execution_count": null,
   "id": "edf063fb",
   "metadata": {},
   "outputs": [],
   "source": []
  }
 ],
 "metadata": {
  "kernelspec": {
   "display_name": "Python 3 (ipykernel)",
   "language": "python",
   "name": "python3"
  },
  "language_info": {
   "codemirror_mode": {
    "name": "ipython",
    "version": 3
   },
   "file_extension": ".py",
   "mimetype": "text/x-python",
   "name": "python",
   "nbconvert_exporter": "python",
   "pygments_lexer": "ipython3",
   "version": "3.10.5"
  }
 },
 "nbformat": 4,
 "nbformat_minor": 5
}
